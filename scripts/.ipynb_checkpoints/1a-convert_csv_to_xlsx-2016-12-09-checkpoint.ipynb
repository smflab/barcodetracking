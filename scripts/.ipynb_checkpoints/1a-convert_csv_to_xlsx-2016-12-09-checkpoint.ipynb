{
 "cells": [
  {
   "cell_type": "code",
   "execution_count": 29,
   "metadata": {
    "collapsed": true
   },
   "outputs": [],
   "source": [
    "import pandas as pd\n",
    "import numpy as np\n",
    "\n",
    "\"\"\"USER INPUTS\"\"\"\n",
    "\n",
    "\"\"\"input csv file path\"\"\"\n",
    "CSV = \"../output/filtered-sample.csv\"\n",
    "\n",
    "\"\"\"output xlsx file path\"\"\"\n",
    "XLSX = \"../output/filtered-sample.xlsx\"\n",
    "\n",
    "# read in and format \n",
    "data = pd.read_csv(CSV)\n",
    "if \"Unnamed: 0\" in data.columns:\n",
    "    data.drop(\"Unnamed: 0\", axis=1, inplace=True)\n",
    "data = data[['idx','qtag','barcode','mcountsPF','readsPF']]\n",
    "data.sort_values(by=['idx','mcountsPF','readsPF'], ascending=[True,False,False], inplace=True)\n",
    "# write each idx to excel\n",
    "writer = pd.ExcelWriter(XLSX)\n",
    "data.groupby('idx').apply(lambda x: x.to_excel(writer, x.name, index=False))\n",
    "# save excel and close\n",
    "writer.save()"
   ]
  }
 ],
 "metadata": {
  "anaconda-cloud": {},
  "kernelspec": {
   "display_name": "Python [default]",
   "language": "python",
   "name": "python2"
  },
  "language_info": {
   "codemirror_mode": {
    "name": "ipython",
    "version": 2
   },
   "file_extension": ".py",
   "mimetype": "text/x-python",
   "name": "python",
   "nbconvert_exporter": "python",
   "pygments_lexer": "ipython2",
   "version": "2.7.12"
  }
 },
 "nbformat": 4,
 "nbformat_minor": 1
}

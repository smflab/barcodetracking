{
 "cells": [
  {
   "cell_type": "code",
   "execution_count": 2,
   "metadata": {
    "collapsed": true
   },
   "outputs": [],
   "source": [
    "\"\"\"query_db-2016-12-09\"\"\"\n",
    "\n",
    "import pandas as pd\n",
    "import sqlite3\n",
    "\n",
    "\n",
    "DB = \"../output/counts_sample.db\"\n",
    "\n",
    "# open db and init cursor\n",
    "conn = sqlite3.connect(DB)\n",
    "c = conn.cursor()\n",
    "\n",
    "# get list of table names in db\n",
    "table_names = c.execute('''\n",
    "    SELECT name from sqlite_master\n",
    "    WHERE type='table';\n",
    "''').fetchall()\n",
    "\n",
    "# for each table, check that rows do exist, and are correct columns\n",
    "for t in table_names:\n",
    "    # table name\n",
    "    print \"Table: \", t[0]\n",
    "    # number of lines in table\n",
    "    print \"Number of rows: \", c.execute('''\n",
    "        SELECT count(*) from %s\n",
    "    '''%t).fetchone()[0]\n",
    "    # columns in table\n",
    "    print \"Columns: \"\n",
    "    cols = c.execute('''\n",
    "        PRAGMA table_info(%s);\n",
    "    '''%t).fetchall()\n",
    "    for col in cols:\n",
    "        print col\n",
    "    # example row\n",
    "    print \"Example row: \", c.execute('''\n",
    "        SELECT * from %s \n",
    "        WHERE mcountsPF > 1000;\n",
    "    '''%t).fetchone()\n",
    "    print '\\n'\n",
    "\n",
    "# close connection\n",
    "# conn.commit()\n",
    "conn.close()"
   ]
  }
 ],
 "metadata": {
  "anaconda-cloud": {},
  "kernelspec": {
   "display_name": "Python [conda root]",
   "language": "python",
   "name": "conda-root-py"
  },
  "language_info": {
   "codemirror_mode": {
    "name": "ipython",
    "version": 2
   },
   "file_extension": ".py",
   "mimetype": "text/x-python",
   "name": "python",
   "nbconvert_exporter": "python",
   "pygments_lexer": "ipython2",
   "version": "2.7.12"
  }
 },
 "nbformat": 4,
 "nbformat_minor": 0
}

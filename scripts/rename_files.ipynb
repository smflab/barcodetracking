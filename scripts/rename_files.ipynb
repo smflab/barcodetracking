{
 "cells": [
  {
   "cell_type": "code",
   "execution_count": null,
   "metadata": {
    "collapsed": true
   },
   "outputs": [],
   "source": [
    "import os, sys\n",
    "import shutil\n",
    "import regex"
   ]
  },
  {
   "cell_type": "code",
   "execution_count": null,
   "metadata": {
    "collapsed": true
   },
   "outputs": [],
   "source": [
    "MAIN_DIR = \"../reinfection\"\n",
    "OUTPUT_DIR = \"../reinfection_renamed\""
   ]
  },
  {
   "cell_type": "code",
   "execution_count": null,
   "metadata": {
    "collapsed": false
   },
   "outputs": [],
   "source": [
    "# rex to find monkey, date run info from d\n",
    "rex = r\"\"\"^\\.\\.\\/reinfection   # parent directory\n",
    "            \\/(?P<monkey>[A-Za-z0-9]+)   # find monkey value from dir name\n",
    "                -scrapate-(   \n",
    "                ?P<date>\\d{4}-\\d{2}-\\d{2}) # find date from dir name\n",
    "            \\/?.* # remainder of dir path, don't care\n",
    "        \"\"\" "
   ]
  },
  {
   "cell_type": "code",
   "execution_count": null,
   "metadata": {
    "collapsed": false
   },
   "outputs": [],
   "source": [
    "# rex to find sample id, suffix index info from file name\n",
    "rexf = r\"\"\"(?:[A-Za-z0-9]+-)?\n",
    "           (?P<sid>[A-Za-z0-9_]+)_\n",
    "           (?<suffix>S\\d{1,3}_L\\d{3}_R\\d_\\d{3}\n",
    "            \\.fastq\\.gz)\n",
    "        \"\"\""
   ]
  },
  {
   "cell_type": "code",
   "execution_count": null,
   "metadata": {
    "collapsed": true
   },
   "outputs": [],
   "source": [
    "for d,s,fs in os.walk(MAIN_DIR):\n",
    "    files = [f for f in fs if f.endswith(\".fastq.gz\")]\n",
    "    if len(files) > 0:\n",
    "        if regex.search(rex, d, flags=regex.VERBOSE) == None:\n",
    "            print files\n",
    "            print d\n",
    "        monkey, date = regex.search(rex, d, flags=regex.VERBOSE).groups()\n",
    "        date = \"\".join(regex.split(\"-\",date))\n",
    "        for f in files:\n",
    "            sid, suffix = regex.search(rexf,f,flags=regex.VERBOSE).groups()\n",
    "            if len(sid) < 2:\n",
    "                sid = \"0\" + sid\n",
    "            new_fpath = \"%s/%s-%s-%s_%s\"%(OUTPUT_DIR,monkey,sid,date,suffix)\n",
    "            if not os.path.isfile(new_fpath):\n",
    "                shutil.copyfile(\"%s/%s\"%(d,f),new_fpath)\n",
    "                print 'copied'\n",
    "            print new_fpath, \"done\"\n",
    "            "
   ]
  }
 ],
 "metadata": {
  "kernelspec": {
   "display_name": "Python 2",
   "language": "python",
   "name": "python2"
  },
  "language_info": {
   "codemirror_mode": {
    "name": "ipython",
    "version": 2
   },
   "file_extension": ".py",
   "mimetype": "text/x-python",
   "name": "python",
   "nbconvert_exporter": "python",
   "pygments_lexer": "ipython2",
   "version": "2.7.11"
  }
 },
 "nbformat": 4,
 "nbformat_minor": 1
}
